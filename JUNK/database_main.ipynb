{
 "cells": [
  {
   "cell_type": "markdown",
   "metadata": {},
   "source": [
    "### Setting up SQL database with Py using sqlite3\n",
    "\n"
   ]
  },
  {
   "cell_type": "code",
   "execution_count": null,
   "metadata": {},
   "outputs": [],
   "source": [
    "! pip install sqlite3"
   ]
  },
  {
   "cell_type": "markdown",
   "metadata": {},
   "source": [
    "#### Tables required for inflation analysis:\n",
    "\n",
    "After taking overview I found below metrics play critical role into how any economist generally draw analysis on state of inflation for any given country in given time frame.\n",
    "\n",
    "- Consumer Price Index\n",
    "- Producer Price Index\n",
    "- Gross Domestic Product\n",
    "- Employment Cost Index\n",
    "- Commodity Price Index\n",
    "- Housing Price Index\n",
    "\n",
    "Due to constraints of data availability and scope of this project at this stage, I have considered Gross Development Product(GDP) to draw analysis."
   ]
  },
  {
   "cell_type": "code",
   "execution_count": null,
   "metadata": {},
   "outputs": [],
   "source": [
    "import sqlite3\n",
    "\n",
    "# Connect to SQLite and create a database\n",
    "conn = sqlite3.connect(\"inflation_records.db\")\n",
    "cursor = conn.cursor()\n",
    "\n",
    "# Create a table named \"GDP\"\n",
    "cursor.execute('''\n",
    "    CREATE TABLE IF NOT EXISTS GDP (\n",
    "        country TEXT,\n",
    "        code TEXT,\n",
    "        year INTEGER,\n",
    "        inflation INTEGER\n",
    "    )\n",
    "''')\n",
    "\n",
    "# Commit changes and close connection\n",
    "conn.commit()\n",
    "conn.close()\n"
   ]
  },
  {
   "cell_type": "markdown",
   "metadata": {},
   "source": [
    "##### Add GDP data to table"
   ]
  },
  {
   "cell_type": "code",
   "execution_count": null,
   "metadata": {},
   "outputs": [],
   "source": [
    "import csv\n",
    " \n",
    "# Connect to SQLite and create a database\n",
    "conn = sqlite3.connect(\"inflation_records.db\")\n",
    "cursor = conn.cursor()\n",
    "\n",
    "# Read data from the inflation-GDP CSV file\n",
    "with open('inflation-gdp.csv') as f:\n",
    "    reader = csv.DictReader(f)\n",
    "    data = list(reader)\n",
    " \n",
    "# Insert data into the GDP table\n",
    "for row in data:\n",
    "    cursor.execute(\"INSERT INTO GDP(country, code, year, inflation) VALUES (?, ?, ?, ?)\",\n",
    "                   (row['Country'], row['Country Code'], row['Year'], row['Inflation']))\n",
    " \n",
    "# Commit the changes and close connection\n",
    "conn.commit()\n",
    "conn.close()"
   ]
  },
  {
   "cell_type": "markdown",
   "metadata": {},
   "source": [
    "*Display GDP data*"
   ]
  },
  {
   "cell_type": "code",
   "execution_count": null,
   "metadata": {},
   "outputs": [],
   "source": [
    "import sqlite3\n",
    " \n",
    "# Connect to the database\n",
    "conn = sqlite3.connect('inflation_records.db')  \n",
    "cursor = conn.cursor()\n",
    " \n",
    "# Execute a SELECT query on the \"GDP\" table\n",
    "cursor.execute('SELECT DISTINCT country FROM GDP')\n",
    " \n",
    "# Fetch all rows\n",
    "rows = cursor.fetchall()\n",
    " \n",
    "# Display the data\n",
    "for row in rows:\n",
    "    print(row)\n",
    " \n",
    "# Close the database connection\n",
    "conn.close()"
   ]
  },
  {
   "cell_type": "markdown",
   "metadata": {},
   "source": [
    "*Display GDP data using matplotlib*"
   ]
  },
  {
   "cell_type": "code",
   "execution_count": null,
   "metadata": {},
   "outputs": [],
   "source": [
    "! pip install matplotlib"
   ]
  },
  {
   "cell_type": "code",
   "execution_count": null,
   "metadata": {},
   "outputs": [],
   "source": [
    "import pandas as pd\n",
    "import matplotlib.pyplot as plt\n",
    "\n",
    "# Load the data // just for now using csv\n",
    "data = pd.read_csv('inflation-gdp.csv')\n",
    "\n",
    "# Basic Data Exploration\n",
    "print(\"Data Overview:\")\n",
    "print(data.head())\n",
    "\n",
    "# Core Functionality\n",
    "def filter_data(country=None, start_year=None, end_year=None):\n",
    "    filtered_data = data.copy()\n",
    "\n",
    "    if country:\n",
    "        filtered_data = filtered_data[filtered_data['Country'] == country]\n",
    "\n",
    "    if start_year:\n",
    "        filtered_data = filtered_data[filtered_data['Year'] >= start_year]\n",
    "\n",
    "    if end_year:\n",
    "        filtered_data = filtered_data[filtered_data['Year'] <= end_year]\n",
    "\n",
    "    return filtered_data\n",
    "\n",
    "# Example: Filter data for a specific country and range of years\n",
    "filtered_data = filter_data(country='Arab World', start_year=1970, end_year=1980)\n",
    "\n",
    "# Data Visualization\n",
    "def plot_inflation_trend(data):\n",
    "    plt.plot(data['Year'], data['Inflation'], marker='o')\n",
    "    plt.title(f'Inflation Trend for {data[\"Country\"].iloc[0]} ({data[\"Year\"].min()} to {data[\"Year\"].max()})')\n",
    "    plt.xlabel('Year')\n",
    "    plt.ylabel('Inflation')\n",
    "    plt.show()\n",
    "\n",
    "# Example: Plot inflation for the filtered data\n",
    "plot_inflation_trend(filtered_data)\n"
   ]
  },
  {
   "cell_type": "markdown",
   "metadata": {},
   "source": [
    "##### Add database functionalities"
   ]
  },
  {
   "cell_type": "markdown",
   "metadata": {},
   "source": [
    "*Create New Entry to DB*"
   ]
  },
  {
   "cell_type": "code",
   "execution_count": null,
   "metadata": {},
   "outputs": [],
   "source": [
    "import sqlite3\n",
    "\n",
    "# Function to establish a database connection\n",
    "def connect_to_database():\n",
    "    return sqlite3.connect(\"inflation_records.db\")\n",
    "\n",
    "# Create new entry in the GDP table\n",
    "def create_entry(country, code, year, inflation):\n",
    "    conn = connect_to_database()\n",
    "    cursor = conn.cursor()\n",
    "    cursor.execute(\"INSERT INTO GDP(country, code, year, inflation) VALUES (?, ?, ?, ?)\",\n",
    "                   (country, code, year, inflation))\n",
    "    conn.commit()\n",
    "    conn.close()\n",
    "\n",
    "# Example Usage:\n",
    "# Create Entry\n",
    "create_entry(\"ExampleCountry\", \"EX\", 2022, 5.0)"
   ]
  },
  {
   "cell_type": "markdown",
   "metadata": {},
   "source": [
    "*Read Entry from DB*"
   ]
  },
  {
   "cell_type": "code",
   "execution_count": null,
   "metadata": {},
   "outputs": [],
   "source": [
    "import sqlite3\n",
    "\n",
    "# Function to establish a database connection\n",
    "def connect_to_database():\n",
    "    return sqlite3.connect(\"inflation_records.db\")\n",
    "\n",
    "# Read entries from the GDP table based on filters\n",
    "def read_entries(country=None, start_year=None, end_year=None):\n",
    "    conn = connect_to_database()\n",
    "    cursor = conn.cursor()\n",
    "\n",
    "    query = \"SELECT * FROM GDP WHERE 1\"\n",
    "    params = []\n",
    "\n",
    "    if country:\n",
    "        query += \" AND country = ?\"\n",
    "        params.append(country)\n",
    "\n",
    "    if start_year:\n",
    "        query += \" AND year >= ?\"\n",
    "        params.append(start_year)\n",
    "\n",
    "    if end_year:\n",
    "        query += \" AND year <= ?\"\n",
    "        params.append(end_year)\n",
    "\n",
    "    cursor.execute(query, tuple(params))\n",
    "    entries = cursor.fetchall()\n",
    "\n",
    "    conn.close()\n",
    "    return entries\n",
    "\n",
    "\n",
    "# Read Entries\n",
    "entries = read_entries(country='ExampleCountry')\n",
    "print(\"Read Entries:\", entries)"
   ]
  },
  {
   "cell_type": "markdown",
   "metadata": {},
   "source": [
    "*Update Entry in DB*"
   ]
  },
  {
   "cell_type": "code",
   "execution_count": null,
   "metadata": {},
   "outputs": [],
   "source": [
    "import sqlite3\n",
    "\n",
    "# Function to establish a database connection\n",
    "def connect_to_database():\n",
    "    return sqlite3.connect(\"inflation_records.db\")\n",
    "\n",
    "# Update entry in the GDP table\n",
    "def update_entry(country, year, new_inflation):\n",
    "    conn = connect_to_database()\n",
    "    cursor = conn.cursor()\n",
    "    cursor.execute(\"UPDATE GDP SET inflation = ? WHERE country = ? AND year = ?\",\n",
    "                   (new_inflation, country, year))\n",
    "    conn.commit()\n",
    "    conn.close()\n",
    "\n",
    "# Update Entry\n",
    "update_entry(\"ExampleCountry\", 2022, 6.0)"
   ]
  },
  {
   "cell_type": "markdown",
   "metadata": {},
   "source": [
    "*Delete Entry in DB*"
   ]
  },
  {
   "cell_type": "code",
   "execution_count": null,
   "metadata": {},
   "outputs": [],
   "source": [
    "import sqlite3\n",
    "\n",
    "# Function to establish a database connection\n",
    "def connect_to_database():\n",
    "    return sqlite3.connect(\"inflation_records.db\")\n",
    "\n",
    "# Delete entry from the GDP table\n",
    "def delete_entry(country, year):\n",
    "    conn = connect_to_database()\n",
    "    cursor = conn.cursor()\n",
    "    cursor.execute(\"DELETE FROM GDP WHERE country = ? AND year = ?\", (country, year))\n",
    "    conn.commit()\n",
    "    conn.close()\n",
    "\n",
    "# Delete Entry\n",
    "delete_entry(\"ExampleCountry\", 2022)\n"
   ]
  }
 ],
 "metadata": {
  "kernelspec": {
   "display_name": "Python 3",
   "language": "python",
   "name": "python3"
  },
  "language_info": {
   "codemirror_mode": {
    "name": "ipython",
    "version": 3
   },
   "file_extension": ".py",
   "mimetype": "text/x-python",
   "name": "python",
   "nbconvert_exporter": "python",
   "pygments_lexer": "ipython3",
   "version": "3.11.7"
  }
 },
 "nbformat": 4,
 "nbformat_minor": 2
}
