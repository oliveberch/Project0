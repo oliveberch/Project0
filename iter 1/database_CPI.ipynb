{
 "cells": [
  {
   "cell_type": "markdown",
   "metadata": {},
   "source": [
    "### Setting up SQL database with Py using sqlite3"
   ]
  },
  {
   "cell_type": "code",
   "execution_count": null,
   "metadata": {},
   "outputs": [],
   "source": [
    "! pip install sqlite3"
   ]
  },
  {
   "cell_type": "code",
   "execution_count": 5,
   "metadata": {},
   "outputs": [
    {
     "data": {
      "text/plain": [
       "<sqlite3.Cursor at 0x2376cc388c0>"
      ]
     },
     "execution_count": 5,
     "metadata": {},
     "output_type": "execute_result"
    }
   ],
   "source": [
    "import sqlite3\n",
    " \n",
    "# Connect to SQLite and create a database\n",
    "conn = sqlite3.connect(\"inflation_records.db\")\n",
    "cursor = conn.cursor() #cursor is like pointer or object for the database\n",
    " \n",
    "# Create a table named \"students\" write every query in excute method\n",
    "cursor.execute('''\n",
    "    CREATE TABLE IF NOT EXISTS students (\n",
    "        id INTEGER PRIMARY KEY AUTOINCREMENT,\n",
    "        roll_no INTEGER,\n",
    "        name TEXT,\n",
    "        age INTEGER,\n",
    "        grade TEXT,\n",
    "        marks INTEGER\n",
    "    )\n",
    "''')"
   ]
  },
  {
   "cell_type": "code",
   "execution_count": null,
   "metadata": {},
   "outputs": [],
   "source": [
    "import pandas as pd\n",
    "\n",
    "df = pd.read_csv(\"./Data/inflation-CPI.csv\")\n",
    "\n",
    "# print(df['Country Name'])\n",
    "\n",
    "print(df.pivot(columns=[2023]\n",
    "    ))"
   ]
  },
  {
   "cell_type": "markdown",
   "metadata": {},
   "source": []
  },
  {
   "cell_type": "code",
   "execution_count": null,
   "metadata": {},
   "outputs": [],
   "source": [
    "import pandas as pd\n",
    "\n",
    "# Read data from the CSV file\n",
    "df = pd.read_csv(\"./Data/inflation-CPI.csv\")\n",
    "\n",
    "# Convert years to strings\n",
    "years = [str(year) for year in range(1950, 2024)]\n",
    "\n",
    "# Pivot the DataFrame\n",
    "pivot_df = df.pivot(columns=years)\n",
    "\n",
    "# Display the pivoted DataFrame\n",
    "print(pivot_df)\n"
   ]
  },
  {
   "cell_type": "code",
   "execution_count": null,
   "metadata": {},
   "outputs": [],
   "source": [
    "# change df to sql table\n",
    "\n",
    "pd.to_sql(con=\"\", name=\"\", )"
   ]
  },
  {
   "cell_type": "code",
   "execution_count": null,
   "metadata": {},
   "outputs": [],
   "source": [
    "import sqlite3\n",
    " \n",
    "# Connect to the database\n",
    "conn = sqlite3.connect('students_database.db')  \n",
    "cursor = conn.cursor()\n",
    " \n",
    "# Execute a SELECT query on the \"students\" table\n",
    "cursor.execute('SELECT * FROM students')\n",
    " \n",
    "# Fetch all rows\n",
    "rows = cursor.fetchall()\n",
    " \n",
    "# Display the data\n",
    "for row in rows:\n",
    "    print(row)\n",
    " \n",
    "# Close the database connection\n",
    "conn.close()"
   ]
  }
 ],
 "metadata": {
  "kernelspec": {
   "display_name": "Python 3",
   "language": "python",
   "name": "python3"
  },
  "language_info": {
   "codemirror_mode": {
    "name": "ipython",
    "version": 3
   },
   "file_extension": ".py",
   "mimetype": "text/x-python",
   "name": "python",
   "nbconvert_exporter": "python",
   "pygments_lexer": "ipython3",
   "version": "3.11.7"
  }
 },
 "nbformat": 4,
 "nbformat_minor": 2
}
